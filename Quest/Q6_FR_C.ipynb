{
 "cells": [
  {
   "cell_type": "markdown",
   "metadata": {
    "colab_type": "text",
    "id": "co2X9cGIieV0"
   },
   "source": [
    "# Au secours des statisticiens !\n",
    "\n",
    "Tes collègues statisticiens ont besoin de toi. \n",
    "Ils ont des tonnes de calculs à faire et sont en train d'apprende à le faire non plus dans Excel mais avec Python, ton langage de programmation favori.\n",
    "\n",
    "Très gentillemment, tu acceptes de les aider. \n",
    "\n",
    "Réalise les missions ci-dessous."
   ]
  },
  {
   "cell_type": "markdown",
   "metadata": {
    "colab_type": "text",
    "id": "rvnKhKV7CVoS"
   },
   "source": [
    "![Einstien le génie](http://lemomo2.pagesperso-orange.fr/Astrosourire/Albert_Einstein_emc2.jpg)"
   ]
  },
  {
   "cell_type": "markdown",
   "metadata": {
    "colab": {
     "base_uri": "https://localhost:8080/",
     "height": 34
    },
    "colab_type": "code",
    "executionInfo": {
     "elapsed": 1623,
     "status": "ok",
     "timestamp": 1568530571550,
     "user": {
      "displayName": "Mary Deroost",
      "photoUrl": "https://lh3.googleusercontent.com/a-/AAuE7mBtlrKScs278ByJ8x55XHcQrxi1YYV_aKUpntFG=s64",
      "userId": "00634061046731714908"
     },
     "user_tz": -120
    },
    "id": "S4jmbgw-kWcj",
    "outputId": "d39c90b7-5782-45a7-c85e-898091636613"
   },
   "source": [
    "## Mission 1 : \n",
    "\n",
    "Afficher le message \"Bonjour, les statisticiens!\". \n",
    "\n",
    "Vous devez utiliser une **variable** de type `str` que vous passerez en **paramètre** de la **fonction** `print()`.\n"
   ]
  },
  {
   "cell_type": "code",
   "execution_count": null,
   "metadata": {},
   "outputs": [],
   "source": []
  },
  {
   "cell_type": "markdown",
   "metadata": {
    "colab": {
     "base_uri": "https://localhost:8080/",
     "height": 34
    },
    "colab_type": "code",
    "executionInfo": {
     "elapsed": 1028,
     "status": "ok",
     "timestamp": 1568530613495,
     "user": {
      "displayName": "Mary Deroost",
      "photoUrl": "https://lh3.googleusercontent.com/a-/AAuE7mBtlrKScs278ByJ8x55XHcQrxi1YYV_aKUpntFG=s64",
      "userId": "00634061046731714908"
     },
     "user_tz": -120
    },
    "id": "4rJVUEkNk5Oo",
    "outputId": "8176e358-37a6-44f2-a333-7c64fbf39670"
   },
   "source": [
    "## Mission 2 : \n",
    "\n",
    "\n",
    "Créer une ***fonction*** qui prend en ***paramètre*** 2 nombres et **affiche** s'ils sont égaux ou pas grace à un **opérateur booléen** (`True`/`False`).\n"
   ]
  },
  {
   "cell_type": "code",
   "execution_count": null,
   "metadata": {},
   "outputs": [],
   "source": []
  },
  {
   "cell_type": "markdown",
   "metadata": {
    "colab_type": "text",
    "id": "wRjfN5mi8L_h"
   },
   "source": [
    "## Mission 3:\n",
    "\n",
    "Créer une ***fonction***  qui prend en **paramètre** un nombre entier compris en 0 et 10 (inclus) et **affiche** les résultats de sa multiplication sous forme de liste en sautant une valeur sur deux.\n",
    "\n",
    "> - Vous pouvez utiliser une **instruction de boucle** `while` ou `for`\n",
    "\n",
    "> - Que se passe-t-il quand le paramêtre est 0? \n",
    " \n",
    "\n",
    "Exemple:\n",
    "```python\n",
    "ma_fonction_multiplicatrice(1) \n",
    "[0, 2, 4, 6, 8, 10]\n",
    "```"
   ]
  },
  {
   "cell_type": "code",
   "execution_count": null,
   "metadata": {},
   "outputs": [],
   "source": []
  },
  {
   "cell_type": "markdown",
   "metadata": {
    "colab": {
     "base_uri": "https://localhost:8080/",
     "height": 34
    },
    "colab_type": "code",
    "executionInfo": {
     "elapsed": 522,
     "status": "ok",
     "timestamp": 1568530858640,
     "user": {
      "displayName": "Mary Deroost",
      "photoUrl": "https://lh3.googleusercontent.com/a-/AAuE7mBtlrKScs278ByJ8x55XHcQrxi1YYV_aKUpntFG=s64",
      "userId": "00634061046731714908"
     },
     "user_tz": -120
    },
    "id": "Fe9kZrvklI0b",
    "outputId": "c592dbd4-92c1-4651-e63c-dbbb78b0f805"
   },
   "source": [
    "## Mission 4 : \n",
    "\n",
    "Créer une **fonction** qui prend en **paramètre** un mot et **affiche** seulement les voyelles du mot sous forme de **chaine de caractère**\n",
    "\n",
    "> Vous pouvez utiliser une instruction de boucle **while** \n",
    "\n",
    "> La fonction sera testé sur le mot le plus long de la langue française\n",
    "`\"intergouvernementalisations\"`\n",
    "\n",
    "Exemple:\n",
    "\n",
    "```\n",
    "mot = \"anticonstitutionnellement\"\n",
    "ma_fonction_qui_affiche_les_voyelles(mot) \n",
    "'aioiuioeee'\n",
    "```\n"
   ]
  },
  {
   "cell_type": "code",
   "execution_count": null,
   "metadata": {},
   "outputs": [],
   "source": []
  },
  {
   "cell_type": "markdown",
   "metadata": {
    "colab": {
     "base_uri": "https://localhost:8080/",
     "height": 85
    },
    "colab_type": "code",
    "executionInfo": {
     "elapsed": 4470,
     "status": "ok",
     "timestamp": 1568538593746,
     "user": {
      "displayName": "Mary Deroost",
      "photoUrl": "https://lh3.googleusercontent.com/a-/AAuE7mBtlrKScs278ByJ8x55XHcQrxi1YYV_aKUpntFG=s64",
      "userId": "00634061046731714908"
     },
     "user_tz": -120
    },
    "id": "6hjrrDyUlN8o",
    "outputId": "a2b33485-0f83-4eac-ae92-07ed32a5358e"
   },
   "source": [
    "## Mission 5 : \n",
    "\n",
    "Créer une **fonction** qui prend en **paramètre** 3 nombres ainsi que le type d' opérations à effectuer (+, -, *, /) sur ces nombres. Cette fonction **retourne** le résultat de l'opération appliquée. Cette fonction doit **afficher** \n",
    "si le résultat est positif, négatif ou nul et doit **afficher** en cas de division par zéro la phrase suivante \"Erreur, tu essayes de diviser par zéro\". \n",
    "\n",
    "Example:\n",
    "```python\n",
    "ma_fonction_calc(0,\"*\",32,\"+\", 2)\n",
    "\"Le résultat est positif\"\n",
    "2\n",
    "\n",
    "ma_fonction_calc(21,\"/\",0,\"+\", 3)\n",
    "\"Erreur, tu essayes de diviser par zéro\"\n",
    "\"Le résultat est nul\"\n",
    "```"
   ]
  },
  {
   "cell_type": "markdown",
   "metadata": {
    "colab": {
     "base_uri": "https://localhost:8080/",
     "height": 34
    },
    "colab_type": "code",
    "executionInfo": {
     "elapsed": 482,
     "status": "ok",
     "timestamp": 1568531963256,
     "user": {
      "displayName": "Mary Deroost",
      "photoUrl": "https://lh3.googleusercontent.com/a-/AAuE7mBtlrKScs278ByJ8x55XHcQrxi1YYV_aKUpntFG=s64",
      "userId": "00634061046731714908"
     },
     "user_tz": -120
    },
    "id": "7b3JtuNClm4a",
    "outputId": "7aca3d2f-a250-4368-8313-97d3af671aac"
   },
   "source": [
    "## Mission 6 : \n",
    "\n",
    "Créer une **fonction** `lambda` qui prend en **paramètre** 2 nombres, et **retourne** le résultat de la division. \n",
    "Si le dénominateur est égal à 0 **afficher** un message qui dit : \"On ne peut pas diviser par zéro\".\n",
    "\n"
   ]
  },
  {
   "cell_type": "code",
   "execution_count": null,
   "metadata": {},
   "outputs": [],
   "source": []
  },
  {
   "cell_type": "markdown",
   "metadata": {
    "colab": {
     "base_uri": "https://localhost:8080/",
     "height": 34
    },
    "colab_type": "code",
    "executionInfo": {
     "elapsed": 556,
     "status": "ok",
     "timestamp": 1568531186532,
     "user": {
      "displayName": "Mary Deroost",
      "photoUrl": "https://lh3.googleusercontent.com/a-/AAuE7mBtlrKScs278ByJ8x55XHcQrxi1YYV_aKUpntFG=s64",
      "userId": "00634061046731714908"
     },
     "user_tz": -120
    },
    "id": "r6DP6oTDmqfs",
    "outputId": "dd703464-c7e0-4f9a-bae7-3e04d80cd477"
   },
   "source": [
    "## Mission 7 : \n",
    "\n",
    "Cette fois ci, c'est le service RH te sollicite pour la paye: il doit calculer le salaire net d'un cadre à partir du salaire brut.\n",
    "\n",
    "Créer une **fonction** qui prend en **paramètre** \n",
    "le montant du salaire brut et **renvoie** le montant du salaire net pour les cadres.\n",
    "\n",
    "Le taux du salaire net correspond à 23% pour les non-cadres et 25% pour les cadres.\n",
    "\n"
   ]
  },
  {
   "cell_type": "code",
   "execution_count": null,
   "metadata": {},
   "outputs": [],
   "source": []
  },
  {
   "cell_type": "markdown",
   "metadata": {
    "colab_type": "text",
    "id": "CLFkEk_Fm9d4"
   },
   "source": [
    "---\n",
    "\n",
    "### Tes collègues sont impressionnés! \n",
    "\n",
    "### Du coup, ils te montrent d'autres problèmes sur lesquels ils sont bloqué.  Codeur dans l'âme, tu te lances ^^"
   ]
  },
  {
   "cell_type": "markdown",
   "metadata": {
    "colab": {
     "base_uri": "https://localhost:8080/",
     "height": 51
    },
    "colab_type": "code",
    "executionInfo": {
     "elapsed": 533,
     "status": "ok",
     "timestamp": 1568531227475,
     "user": {
      "displayName": "Mary Deroost",
      "photoUrl": "https://lh3.googleusercontent.com/a-/AAuE7mBtlrKScs278ByJ8x55XHcQrxi1YYV_aKUpntFG=s64",
      "userId": "00634061046731714908"
     },
     "user_tz": -120
    },
    "id": "pIoUqiKynBbe",
    "outputId": "cf3bf5c4-bcf9-42c0-c616-414a3d7bbe94"
   },
   "source": [
    "## Mission 9 : \n",
    "\n",
    "Cette fois-ci c'est un chef de projet qui a besoin de savoir le jour suivant dans la semaine, pour le dimanche, il renvoie lundi.  \n",
    "\n",
    "Créer une **fonction** qui prend en **paramètre** un jour dans la semaine et **retourne** le jour suivant. \n",
    "\n",
    "> Vous pouvez vous servir des listes ou des dictionnaires.\n"
   ]
  },
  {
   "cell_type": "markdown",
   "metadata": {
    "colab": {
     "base_uri": "https://localhost:8080/",
     "height": 34
    },
    "colab_type": "code",
    "executionInfo": {
     "elapsed": 533,
     "status": "ok",
     "timestamp": 1568531246228,
     "user": {
      "displayName": "Mary Deroost",
      "photoUrl": "https://lh3.googleusercontent.com/a-/AAuE7mBtlrKScs278ByJ8x55XHcQrxi1YYV_aKUpntFG=s64",
      "userId": "00634061046731714908"
     },
     "user_tz": -120
    },
    "id": "68rX-Y0AnGiR",
    "outputId": "ca8faf9d-4c1e-4a29-b088-61bf66486f6e"
   },
   "source": [
    "## Mission 10 : \n",
    "\n",
    "Au département marketing, ils auraient besoin d'avoir une liste de mots-clés à partir d'un paragraphe issue d'une brochure commerciale, pour pouvoir créer une campagne de publicité.\n",
    "\n",
    "Créer une **fonction** qui prend en **paramètre** une phrase et **renvoie** une liste de mots. \n",
    "\n",
    "La phrase de test est la suivante: \n",
    "\"Après douze douches douces les chaussettes de l'archi-duchesse sont-elles sèches, archi-sèches ?\"\n",
    "\n"
   ]
  },
  {
   "cell_type": "code",
   "execution_count": null,
   "metadata": {},
   "outputs": [],
   "source": []
  },
  {
   "cell_type": "markdown",
   "metadata": {
    "colab": {
     "base_uri": "https://localhost:8080/",
     "height": 34
    },
    "colab_type": "code",
    "executionInfo": {
     "elapsed": 558,
     "status": "ok",
     "timestamp": 1568531263836,
     "user": {
      "displayName": "Mary Deroost",
      "photoUrl": "https://lh3.googleusercontent.com/a-/AAuE7mBtlrKScs278ByJ8x55XHcQrxi1YYV_aKUpntFG=s64",
      "userId": "00634061046731714908"
     },
     "user_tz": -120
    },
    "id": "YGNoBYBEnLAx",
    "outputId": "df49b996-1e0c-48fa-d29a-ea913144eb29"
   },
   "source": [
    "## Mission 11 \n",
    "\n",
    "Décidemment, ton succès est tel que cette fois ci c'est le département Design qui te sollicite: il aurait besoin d'une typographie un peu loufoque pour leur prochaine bannière. \n",
    "\n",
    "Créer une **fonction** qui prend un **paramètre** une `chaine de caractère` \n",
    "et **renvoie** la même chaine de caractère mais avec une majuscule pour une lettre sur deux sauf s'il s'agit d'une consonne.\n"
   ]
  },
  {
   "cell_type": "code",
   "execution_count": null,
   "metadata": {},
   "outputs": [],
   "source": []
  },
  {
   "cell_type": "markdown",
   "metadata": {
    "colab": {
     "base_uri": "https://localhost:8080/",
     "height": 34
    },
    "colab_type": "code",
    "executionInfo": {
     "elapsed": 653,
     "status": "ok",
     "timestamp": 1568531292899,
     "user": {
      "displayName": "Mary Deroost",
      "photoUrl": "https://lh3.googleusercontent.com/a-/AAuE7mBtlrKScs278ByJ8x55XHcQrxi1YYV_aKUpntFG=s64",
      "userId": "00634061046731714908"
     },
     "user_tz": -120
    },
    "id": "IJCr_jvwnOCh",
    "outputId": "ad3fee3b-47e6-4b63-8645-892dd7036c10"
   },
   "source": [
    "## Mission 12 : \n",
    "\n",
    "Créer une **fonction** qui prend en **paramètre** une phrase et retourne une liste de mot.\n",
    "\n",
    "> Cette fois ci, tu dois utiliser une `compréhension de liste`\n",
    "\n"
   ]
  },
  {
   "cell_type": "code",
   "execution_count": null,
   "metadata": {},
   "outputs": [],
   "source": []
  },
  {
   "cell_type": "markdown",
   "metadata": {
    "colab": {
     "base_uri": "https://localhost:8080/",
     "height": 68
    },
    "colab_type": "code",
    "executionInfo": {
     "elapsed": 8082,
     "status": "ok",
     "timestamp": 1568531332781,
     "user": {
      "displayName": "Mary Deroost",
      "photoUrl": "https://lh3.googleusercontent.com/a-/AAuE7mBtlrKScs278ByJ8x55XHcQrxi1YYV_aKUpntFG=s64",
      "userId": "00634061046731714908"
     },
     "user_tz": -120
    },
    "id": "xjYGsODEnSb2",
    "outputId": "469bde11-3571-44c7-c418-303a6456d567"
   },
   "source": [
    "## Mission 13 : \n",
    "\n",
    "\n",
    "Créer un **script** qui prend en **paramètres** 2 `input` de l'utilisateur : \n",
    "- sa date de naissance \n",
    "- son prénom.\n",
    "et qui affiche le message suivant:\n",
    "\" Bonjour {prénom}, aujourd'hui tu as {age} ans.\"\n",
    "\n",
    "> - Vous devrez convertir la date de naissance en un entier `int` pour la soustraire à l'année actuelle.\n",
    "> - Vous pouvez utiliser un `module` pour récupérer l'année de naissance \n"
   ]
  },
  {
   "cell_type": "code",
   "execution_count": null,
   "metadata": {},
   "outputs": [],
   "source": []
  }
 ],
 "metadata": {
  "colab": {
   "collapsed_sections": [],
   "name": "Copy of MD - Au secours des statisticiens - Partie 1.ipynb",
   "provenance": [
    {
     "file_id": "1Pwp0n8wQ2ADv_KxII1puhQQp1XoKHmeg",
     "timestamp": 1575469814303
    },
    {
     "file_id": "1SpwnCFaykRtwuhq5QK4xBjPsKSeTG5yJ",
     "timestamp": 1568530437285
    },
    {
     "file_id": "1X3evw0_7w1K28-qMTTxIG_AVfLzCKQ9Q",
     "timestamp": 1566769588206
    }
   ]
  },
  "kernelspec": {
   "display_name": "Python 3",
   "language": "python",
   "name": "python3"
  },
  "language_info": {
   "codemirror_mode": {
    "name": "ipython",
    "version": 3
   },
   "file_extension": ".py",
   "mimetype": "text/x-python",
   "name": "python",
   "nbconvert_exporter": "python",
   "pygments_lexer": "ipython3",
   "version": "3.6.9"
  }
 },
 "nbformat": 4,
 "nbformat_minor": 1
}